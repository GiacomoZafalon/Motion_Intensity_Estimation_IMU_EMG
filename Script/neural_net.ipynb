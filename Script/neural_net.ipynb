{
 "cells": [
  {
   "cell_type": "code",
   "execution_count": 1,
   "id": "534340dc-c395-4cad-9a06-a8d4c87f06eb",
   "metadata": {
    "tags": []
   },
   "outputs": [],
   "source": [
    "import torch\n",
    "from torch import nn\n",
    "import torch.nn.functional as F\n",
    "import numpy as np\n",
    "import matplotlib.pyplot as plt\n",
    "import time\n",
    "import pandas as pd\n",
    "import math\n",
    "import tensorflow as tf\n",
    "from tensorflow.keras.models import Sequential\n",
    "from tensorflow.keras.layers import Conv1D, MaxPooling1D, LSTM, Dense, Flatten\n",
    "import torch.optim as optim"
   ]
  },
  {
   "cell_type": "code",
   "execution_count": 2,
   "id": "c05345d3-4abe-4e5e-b4ce-e75279e0a081",
   "metadata": {
    "tags": []
   },
   "outputs": [],
   "source": [
    "# IMU-Based Energy Expenditure Estimation for Various Walking Conditions Using a Hybrid CNN–LSTM Model\n",
    "# conv1d(64, 3)\n",
    "# maxpooling1d(64, 3)\n",
    "# 2 LSTM 64 hidden units\n",
    "# flatten layer\n",
    "# fully connected layer\n",
    "# output"
   ]
  },
  {
   "cell_type": "code",
   "execution_count": 3,
   "id": "2c95149b-9a12-4198-93ee-08a17ba33dcc",
   "metadata": {
    "tags": []
   },
   "outputs": [],
   "source": [
    "class CNN_LSTM(nn.Module):\n",
    "    def __init__(self, num_data, out_channels=64, kernel_conv=3, kernel_pool=3, hidden_lstm=64, layers_lstm=1):\n",
    "        super(CNN_LSTM, self).__init__()\n",
    "        self.batch_size = batch_size\n",
    "\n",
    "        # Linear layer\n",
    "        self.linear1 = nn.Linear(num_sensors*time_steps*num_data, num_sensors*num_data)\n",
    "        \n",
    "        # 1D Convolutional Layer\n",
    "        self.conv1 = nn.Conv1d(in_channels=num_data, out_channels=64, kernel_size=kernel_conv).double()\n",
    "        \n",
    "        # Max Pooling Layer\n",
    "        self.pool1 = nn.MaxPool1d(kernel_size=kernel_conv).double()\n",
    "        \n",
    "        # LSTM layers\n",
    "        self.lstm = nn.LSTM(out_channels, hidden_lstm, layers_lstm, batch_first=True).double()\n",
    "        \n",
    "        # Fully connected layer for regression\n",
    "        self.fc1 = nn.Linear(out_channels, 1).double() # Output dimension is 1 for regression\n",
    "        \n",
    "        self.init_weights()\n",
    "    \n",
    "    def init_weights(self):\n",
    "        for m in self.modules():\n",
    "            if isinstance(m, nn.Conv1d) or isinstance(m, nn.Linear):\n",
    "                nn.init.normal_(m.weight, 0, 1e-1)\n",
    "                nn.init.zeros_(m.bias)\n",
    "    \n",
    "    def forward(self, x): # shape (batch_size, num_sensors, time_steps, num_data) = (2, 5, 8, 6)\n",
    "        x = x.view(batch_size, -1) # shape (batch_size, num_sensors*time_steps*num_data) = (2, 240)\n",
    "        x = self.linear1(x) # shape (batch_size, num_sensors*num_data) = (2, 30)\n",
    "        x = x.view(batch_size, 5, 1, 6) # shape (batch_size, num_sensors, 1, num_data) = (2, 5, 1, 6)\n",
    "        x = F.relu(x) # shape (batch_size, num_sensors, 1, num_data) = (2, 5, 1, 6)\n",
    "        x = x.squeeze(2) # shape (batch_size, num_sensors, num_data) = (2, 5, 6)\n",
    "\n",
    "        x = x.double()\n",
    "        x = x.permute(0, 2, 1) # shape (batch_size, num_data, num_sensors) = (2, 6, 5)\n",
    "        x = self.conv1(x) # shape (batch_size, out_channels, _) = (2, 64, 3)\n",
    "        x = self.pool1(x) # shape (batch_size, out_channels, 1) = (2, 64, 1)\n",
    "        x = F.relu(x) # shape (batch_size, out_channels, 1) = (2, 64, 1)\n",
    "        \n",
    "        x = x.squeeze(2) # shape (batch_size, out_channels) = (2, 64)\n",
    "        x, _ = self.lstm(x) # shape (batch_size, out_channels) = (2, 64)\n",
    "\n",
    "        x = self.fc1(x).float() # shape (batch_size, 1) = (2, 1)\n",
    "        output = x.squeeze(1) # shape (batch_size) = (2)\n",
    "        \n",
    "        return output"
   ]
  },
  {
   "cell_type": "code",
   "execution_count": 4,
   "id": "d91e0ca4-9936-4492-bcee-c8a558e6b25d",
   "metadata": {
    "tags": []
   },
   "outputs": [],
   "source": [
    "import sys\n",
    "def train(model, train_loader, time_steps, criterion, optimizer, epochs=5, batch_size=1):\n",
    "    model.train()\n",
    "    losses = []\n",
    "    for epoch in range(epochs):\n",
    "        running_loss = 0.0\n",
    "        print('-----------EPOCH %d-----------' % (epoch + 1))\n",
    "        for i, data in enumerate(train_loader):\n",
    "            inputs, labels = data\n",
    "            optimizer.zero_grad()\n",
    "            outputs = model(inputs)\n",
    "            labels = labels.squeeze(1)\n",
    "            labels = labels.squeeze(1)\n",
    "            loss = criterion(outputs, labels)\n",
    "            loss.backward()\n",
    "            optimizer.step()\n",
    "            running_loss += loss.item()\n",
    "            if (i + 1) % 500 == 0:\n",
    "                print('[episode: %d] loss: %f' % (i + 1, running_loss / 500))\n",
    "                losses.append(running_loss / 500)\n",
    "                running_loss = 0.0\n",
    "    print(outputs, labels)\n",
    "    plt.plot(losses)\n",
    "    plt.xlabel('Iterations')\n",
    "    plt.ylabel('Loss')\n",
    "    plt.title('Training Loss Curve')\n",
    "    plt.show()\n",
    "\n",
    "def test(model, test_loader, batch_size=1):\n",
    "    model.eval()\n",
    "    total_error = 0\n",
    "    total_batches = 0\n",
    "    total_error2 = 0    \n",
    "    with torch.no_grad():\n",
    "        for i, data in enumerate(test_loader):\n",
    "            inputs, labels = data\n",
    "            outputs = model(inputs)\n",
    "            total_batches += 1\n",
    "            batch_error = torch.abs(outputs.flatten() - labels.flatten()) / labels.flatten()\n",
    "            batch_error2 = torch.abs(outputs.flatten() - labels.flatten())\n",
    "            total_error += batch_error.mean().item()\n",
    "            total_error2 += batch_error2.mean().item()\n",
    "            if (i + 1) % 500 == 0:\n",
    "                print(outputs[0], labels[0])\n",
    "    print('Average accuracy: %f %% ' % (100 - total_error / total_batches * 100))\n",
    "    print('Average error between prediction and label: %f' % (total_error2 / total_batches))"
   ]
  },
  {
   "cell_type": "code",
   "execution_count": 5,
   "id": "406b5df7-8fa1-4690-b807-9990f52f0411",
   "metadata": {
    "tags": []
   },
   "outputs": [],
   "source": [
    "class SimpleDataset:\n",
    "    def __init__(self, num_moves, num_sensors, num_diff_acts, num_data, time_steps=100, batch_size=1):\n",
    "        \n",
    "        self.data = torch.zeros((num_moves, num_sensors, time_steps, num_data))\n",
    "        for i in range(num_diff_acts):\n",
    "            for j in range(np.int64(num_moves/num_diff_acts)):\n",
    "                self.data[(i+j+(np.int64(num_moves/num_diff_acts)-1)*i), :, :, :] = torch.tensor((i+1)*10*np.random.rand(1, num_sensors, time_steps, num_data))\n",
    "    \n",
    "        self.labels = torch.zeros((num_moves, 1, 1))\n",
    "        for i in range(num_moves):\n",
    "            self.labels[i, :, :] = torch.mean(self.data[i, :, :, :]) / 60\n",
    "\n",
    "    def __len__(self):\n",
    "        return self.num_samples\n",
    "\n",
    "    def __getitem__(self, indices):\n",
    "        idx_1, idx_2 = indices\n",
    "        return self.data[idx_1, :, idx_2, :], self.labels[idx_1, :, :].numpy()\n",
    "\n",
    "num_diff_acts = 10\n",
    "num_moves = 100000\n",
    "time_steps = 8\n",
    "num_sensors = 5\n",
    "num_data = 6\n",
    "dataset = SimpleDataset(num_moves, num_sensors, num_diff_acts, num_data, time_steps)"
   ]
  },
  {
   "cell_type": "code",
   "execution_count": 6,
   "id": "275eb8c0-1bad-48db-8d39-b908a5e05a68",
   "metadata": {
    "tags": []
   },
   "outputs": [],
   "source": [
    "data, labels = dataset[:, :]\n",
    "num_rows = data.shape[0]\n",
    "indices = torch.randperm(num_rows)\n",
    "shuffled_data = data[indices]\n",
    "shuffled_labels = labels[indices]\n",
    "shuffled_dataset = shuffled_data, shuffled_labels\n",
    "\n",
    "batch_size = 10\n",
    "\n",
    "train_set = [(shuffled_data[i], shuffled_labels[i]) for i in range(np.int64(num_moves/2))]\n",
    "train_loader = torch.utils.data.DataLoader(train_set, batch_size=batch_size, shuffle=True, num_workers=2)\n",
    "\n",
    "test_set = [(shuffled_data[i], shuffled_labels[i]) for i in range(np.int64(num_moves/2), num_moves)]\n",
    "test_loader = torch.utils.data.DataLoader(test_set, batch_size=batch_size, shuffle=False, num_workers=2)\n"
   ]
  },
  {
   "cell_type": "code",
   "execution_count": 8,
   "id": "846c7f8d-62cd-4d3e-af19-7ef7039928b7",
   "metadata": {
    "tags": []
   },
   "outputs": [
    {
     "name": "stdout",
     "output_type": "stream",
     "text": [
      "-----------EPOCH 1-----------\n",
      "[episode: 500] loss: 0.058350\n",
      "[episode: 1000] loss: 0.041171\n",
      "[episode: 1500] loss: 0.031937\n",
      "[episode: 2000] loss: 0.022788\n",
      "[episode: 2500] loss: 0.016159\n",
      "[episode: 3000] loss: 0.012615\n",
      "[episode: 3500] loss: 0.009819\n",
      "[episode: 4000] loss: 0.007885\n",
      "[episode: 4500] loss: 0.006439\n",
      "[episode: 5000] loss: 0.005780\n",
      "tensor([0.1426, 0.2635, 0.4459, 0.5177, 0.5927, 0.3938, 0.5741, 0.5104, 0.5982,\n",
      "        0.5704], grad_fn=<SqueezeBackward1>) tensor([0.0781, 0.2569, 0.4815, 0.5125, 0.5960, 0.4111, 0.6543, 0.5701, 0.6484,\n",
      "        0.4319])\n"
     ]
    },
    {
     "data": {
      "image/png": "[encoded data removed]",
      "text/plain": [
       "<Figure size 640x480 with 1 Axes>"
      ]
     },
     "metadata": {},
     "output_type": "display_data"
    }
   ],
   "source": [
    "model = CNN_LSTM(num_data, layers_lstm=2)\n",
    "criterion = nn.MSELoss()\n",
    "optimizer = optim.SGD(model.parameters(), lr=0.001, momentum=0.9)\n",
    "\n",
    "train(model, train_loader, time_steps, criterion, optimizer, epochs=1, batch_size=batch_size)"
   ]
  },
  {
   "cell_type": "code",
   "execution_count": 9,
   "id": "29feab3a-1bda-44b8-9ce7-91c5a1970f54",
   "metadata": {
    "tags": []
   },
   "outputs": [
    {
     "name": "stdout",
     "output_type": "stream",
     "text": [
      "tensor(0.5047) tensor([[0.4110]])\n",
      "tensor(0.4918) tensor([[0.5117]])\n",
      "tensor(0.5969) tensor([[0.6251]])\n",
      "tensor(0.4509) tensor([[0.4245]])\n",
      "tensor(0.6278) tensor([[0.7891]])\n",
      "tensor(0.6094) tensor([[0.7734]])\n",
      "tensor(0.5640) tensor([[0.5824]])\n",
      "tensor(0.3676) tensor([[0.3614]])\n",
      "tensor(0.4427) tensor([[0.5759]])\n",
      "tensor(0.6172) tensor([[0.7356]])\n",
      "Average accuracy: 84.381832 % \n",
      "Average error between prediction and label: 0.057562\n"
     ]
    }
   ],
   "source": [
    "test(model, test_loader, batch_size=batch_size)"
   ]
  },
  {
   "cell_type": "code",
   "execution_count": null,
   "id": "b8099b3d-66ab-44cf-ae20-9357dbcd9bce",
   "metadata": {},
   "outputs": [],
   "source": []
  },
  {
   "cell_type": "code",
   "execution_count": null,
   "id": "85f2a1d6-d4ea-49da-9c71-dc95412bd6d1",
   "metadata": {},
   "outputs": [],
   "source": []
  },
  {
   "cell_type": "code",
   "execution_count": null,
   "id": "e722f5da-44a4-4da5-9dcc-f7fe4667250b",
   "metadata": {},
   "outputs": [],
   "source": []
  },
  {
   "cell_type": "code",
   "execution_count": null,
   "id": "15548126-a383-40a7-b21f-2fb070b1a3ff",
   "metadata": {},
   "outputs": [],
   "source": []
  },
  {
   "cell_type": "code",
   "execution_count": null,
   "id": "ced1915b-2d74-4f71-a85b-598c09c9ffa0",
   "metadata": {},
   "outputs": [],
   "source": []
  },
  {
   "cell_type": "code",
   "execution_count": null,
   "id": "3bf4800c-a9f9-4615-ab5b-dfdbb9e9d4d1",
   "metadata": {},
   "outputs": [],
   "source": []
  },
  {
   "cell_type": "code",
   "execution_count": null,
   "id": "0e847b73-0262-4f44-a083-5291bd21dd9a",
   "metadata": {},
   "outputs": [],
   "source": []
  },
  {
   "cell_type": "code",
   "execution_count": null,
   "id": "cd794263-bf65-42b9-be1b-f7539478fd6f",
   "metadata": {},
   "outputs": [],
   "source": []
  },
  {
   "cell_type": "code",
   "execution_count": null,
   "id": "cf966bb1-ea15-458d-b2c8-03df4a54c2c1",
   "metadata": {},
   "outputs": [],
   "source": []
  },
  {
   "cell_type": "code",
   "execution_count": null,
   "id": "dd6840a9-ec02-42a4-bcc9-c9e50e069079",
   "metadata": {},
   "outputs": [],
   "source": []
  },
  {
   "cell_type": "code",
   "execution_count": null,
   "id": "fded8e03-6f8e-428f-b5c4-5c57d400a856",
   "metadata": {},
   "outputs": [],
   "source": []
  },
  {
   "cell_type": "code",
   "execution_count": null,
   "id": "b89544f9-d1a1-45fb-bcc9-89385f39190b",
   "metadata": {},
   "outputs": [],
   "source": []
  },
  {
   "cell_type": "code",
   "execution_count": null,
   "id": "932fe51b-03ef-47c2-89d0-857db68b2326",
   "metadata": {},
   "outputs": [],
   "source": []
  },
  {
   "cell_type": "code",
   "execution_count": null,
   "id": "080afcc6-f3b1-4421-961b-bf8ee4dc28f4",
   "metadata": {},
   "outputs": [],
   "source": []
  },
  {
   "cell_type": "code",
   "execution_count": null,
   "id": "9445384f-fd70-468c-85be-51b3d7a97ab4",
   "metadata": {},
   "outputs": [],
   "source": []
  },
  {
   "cell_type": "code",
   "execution_count": null,
   "id": "d25a0bb8-d2aa-4746-a1a9-080ec7d1d4f1",
   "metadata": {},
   "outputs": [],
   "source": []
  },
  {
   "cell_type": "code",
   "execution_count": null,
   "id": "b9b931f6-0891-4879-9790-ba03def15c77",
   "metadata": {},
   "outputs": [],
   "source": []
  }
 ],
 "metadata": {
  "kernelspec": {
   "display_name": "Python 3 (ipykernel)",
   "language": "python",
   "name": "python3"
  },
  "language_info": {
   "codemirror_mode": {
    "name": "ipython",
    "version": 3
   },
   "file_extension": ".py",
   "mimetype": "text/x-python",
   "name": "python",
   "nbconvert_exporter": "python",
   "pygments_lexer": "ipython3",
   "version": "3.12.3"
  }
 },
 "nbformat": 4,
 "nbformat_minor": 5
}
